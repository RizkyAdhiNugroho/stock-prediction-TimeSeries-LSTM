{
  "nbformat": 4,
  "nbformat_minor": 0,
  "metadata": {
    "colab": {
      "name": "submission_2_time_seriesML revisi.ipynb",
      "provenance": [],
      "collapsed_sections": []
    },
    "kernelspec": {
      "name": "python3",
      "display_name": "Python 3"
    },
    "language_info": {
      "name": "python"
    }
  },
  "cells": [
    {
      "cell_type": "markdown",
      "metadata": {
        "id": "v2i5WCGKBpw7"
      },
      "source": [
        "*  Nama : Rizky Adhi Nugroho\n",
        "*  domisili : Tangerang Selatan \n",
        "*  email   : nugrohorizkyadhi@gmail.com "
      ]
    },
    {
      "cell_type": "markdown",
      "metadata": {
        "id": "_C8xBr9N5h45"
      },
      "source": [
        "import data stock dari kaggle"
      ]
    },
    {
      "cell_type": "code",
      "metadata": {
        "colab": {
          "resources": {
            "http://localhost:8080/nbextensions/google.colab/files.js": {
              "data": "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",
              "ok": true,
              "headers": [
                [
                  "content-type",
                  "application/javascript"
                ]
              ],
              "status": 200,
              "status_text": ""
            }
          },
          "base_uri": "https://localhost:8080/",
          "height": 91
        },
        "id": "6FOqg1KLNhm8",
        "outputId": "6a829706-9ac6-4ac8-c5bd-8d0622d40caf"
      },
      "source": [
        "! pip install -q kaggle\n",
        "from google.colab import files\n",
        "\n",
        "files.upload()"
      ],
      "execution_count": null,
      "outputs": [
        {
          "output_type": "display_data",
          "data": {
            "text/html": [
              "\n",
              "     <input type=\"file\" id=\"files-685b3c86-ddbe-485c-895d-fc58a132def8\" name=\"files[]\" multiple disabled\n",
              "        style=\"border:none\" />\n",
              "     <output id=\"result-685b3c86-ddbe-485c-895d-fc58a132def8\">\n",
              "      Upload widget is only available when the cell has been executed in the\n",
              "      current browser session. Please rerun this cell to enable.\n",
              "      </output>\n",
              "      <script src=\"/nbextensions/google.colab/files.js\"></script> "
            ],
            "text/plain": [
              "<IPython.core.display.HTML object>"
            ]
          },
          "metadata": {}
        },
        {
          "output_type": "stream",
          "name": "stdout",
          "text": [
            "Saving kaggle.json to kaggle.json\n"
          ]
        },
        {
          "output_type": "execute_result",
          "data": {
            "text/plain": [
              "{'kaggle.json': b'{\"username\":\"rizkyadhiiii\",\"key\":\"8ad012eb3b08719fd1db8a4ac7618a95\"}'}"
            ]
          },
          "metadata": {},
          "execution_count": 1
        }
      ]
    },
    {
      "cell_type": "code",
      "metadata": {
        "colab": {
          "base_uri": "https://localhost:8080/"
        },
        "id": "uzE0eRFNNlcr",
        "outputId": "99077859-e38f-4434-ae4d-09053b9b1631"
      },
      "source": [
        "#download dari kaggle\n",
        "! mkdir ~/.kaggle\n",
        "! cp kaggle.json ~/.kaggle/\n",
        "! chmod 600 ~/.kaggle/kaggle.json\n",
        "! kaggle datasets download -d szrlee/stock-time-series-20050101-to-20171231"
      ],
      "execution_count": null,
      "outputs": [
        {
          "output_type": "stream",
          "name": "stdout",
          "text": [
            "Downloading stock-time-series-20050101-to-20171231.zip to /content\n",
            "\r  0% 0.00/3.03M [00:00<?, ?B/s]\n",
            "\r100% 3.03M/3.03M [00:00<00:00, 100MB/s]\n"
          ]
        }
      ]
    },
    {
      "cell_type": "code",
      "metadata": {
        "colab": {
          "base_uri": "https://localhost:8080/"
        },
        "id": "i75lXp2pNoaK",
        "outputId": "f8e65376-3e72-4ad0-ee3b-108355472912"
      },
      "source": [
        "#ekstrak file\n",
        "!unzip /content/stock-time-series-20050101-to-20171231.zip"
      ],
      "execution_count": null,
      "outputs": [
        {
          "output_type": "stream",
          "name": "stdout",
          "text": [
            "Archive:  /content/stock-time-series-20050101-to-20171231.zip\n",
            "  inflating: AABA_2006-01-01_to_2018-01-01.csv  \n",
            "  inflating: AAPL_2006-01-01_to_2018-01-01.csv  \n",
            "  inflating: AMZN_2006-01-01_to_2018-01-01.csv  \n",
            "  inflating: AXP_2006-01-01_to_2018-01-01.csv  \n",
            "  inflating: BA_2006-01-01_to_2018-01-01.csv  \n",
            "  inflating: CAT_2006-01-01_to_2018-01-01.csv  \n",
            "  inflating: CSCO_2006-01-01_to_2018-01-01.csv  \n",
            "  inflating: CVX_2006-01-01_to_2018-01-01.csv  \n",
            "  inflating: DIS_2006-01-01_to_2018-01-01.csv  \n",
            "  inflating: GE_2006-01-01_to_2018-01-01.csv  \n",
            "  inflating: GOOGL_2006-01-01_to_2018-01-01.csv  \n",
            "  inflating: GS_2006-01-01_to_2018-01-01.csv  \n",
            "  inflating: HD_2006-01-01_to_2018-01-01.csv  \n",
            "  inflating: IBM_2006-01-01_to_2018-01-01.csv  \n",
            "  inflating: INTC_2006-01-01_to_2018-01-01.csv  \n",
            "  inflating: JNJ_2006-01-01_to_2018-01-01.csv  \n",
            "  inflating: JPM_2006-01-01_to_2018-01-01.csv  \n",
            "  inflating: KO_2006-01-01_to_2018-01-01.csv  \n",
            "  inflating: MCD_2006-01-01_to_2018-01-01.csv  \n",
            "  inflating: MMM_2006-01-01_to_2018-01-01.csv  \n",
            "  inflating: MRK_2006-01-01_to_2018-01-01.csv  \n",
            "  inflating: MSFT_2006-01-01_to_2018-01-01.csv  \n",
            "  inflating: NKE_2006-01-01_to_2018-01-01.csv  \n",
            "  inflating: PFE_2006-01-01_to_2018-01-01.csv  \n",
            "  inflating: PG_2006-01-01_to_2018-01-01.csv  \n",
            "  inflating: TRV_2006-01-01_to_2018-01-01.csv  \n",
            "  inflating: UNH_2006-01-01_to_2018-01-01.csv  \n",
            "  inflating: UTX_2006-01-01_to_2018-01-01.csv  \n",
            "  inflating: VZ_2006-01-01_to_2018-01-01.csv  \n",
            "  inflating: WMT_2006-01-01_to_2018-01-01.csv  \n",
            "  inflating: XOM_2006-01-01_to_2018-01-01.csv  \n",
            "  inflating: all_stocks_2006-01-01_to_2018-01-01.csv  \n",
            "  inflating: all_stocks_2017-01-01_to_2018-01-01.csv  \n"
          ]
        }
      ]
    },
    {
      "cell_type": "markdown",
      "metadata": {
        "id": "UoxxXHbc5vcj"
      },
      "source": [
        "import librarry"
      ]
    },
    {
      "cell_type": "code",
      "metadata": {
        "id": "EHVPKLPuN0py"
      },
      "source": [
        "import numpy as np\n",
        "import pandas as pd\n",
        "from keras.layers import Dense, LSTM\n",
        "import matplotlib.pyplot as plt\n",
        "import tensorflow as tf"
      ],
      "execution_count": null,
      "outputs": []
    },
    {
      "cell_type": "markdown",
      "metadata": {
        "id": "JHPOEm5r51yl"
      },
      "source": [
        "buat dataframe"
      ]
    },
    {
      "cell_type": "code",
      "metadata": {
        "colab": {
          "base_uri": "https://localhost:8080/"
        },
        "id": "gBUbIekdN9hn",
        "outputId": "3f3e985f-0aaa-498d-e5c5-9ba370457a0c"
      },
      "source": [
        "df = pd.read_csv('/content/AABA_2006-01-01_to_2018-01-01.csv', parse_dates=['Date'])\n",
        "print(df.info())\n",
        "print(df.tail())\n",
        "print(df.isnull().sum())"
      ],
      "execution_count": null,
      "outputs": [
        {
          "output_type": "stream",
          "name": "stdout",
          "text": [
            "<class 'pandas.core.frame.DataFrame'>\n",
            "RangeIndex: 3019 entries, 0 to 3018\n",
            "Data columns (total 7 columns):\n",
            " #   Column  Non-Null Count  Dtype         \n",
            "---  ------  --------------  -----         \n",
            " 0   Date    3019 non-null   datetime64[ns]\n",
            " 1   Open    3019 non-null   float64       \n",
            " 2   High    3019 non-null   float64       \n",
            " 3   Low     3019 non-null   float64       \n",
            " 4   Close   3019 non-null   float64       \n",
            " 5   Volume  3019 non-null   int64         \n",
            " 6   Name    3019 non-null   object        \n",
            "dtypes: datetime64[ns](1), float64(4), int64(1), object(1)\n",
            "memory usage: 165.2+ KB\n",
            "None\n",
            "           Date   Open   High    Low  Close    Volume  Name\n",
            "3014 2017-12-22  71.42  71.87  71.22  71.58  10979165  AABA\n",
            "3015 2017-12-26  70.94  71.39  69.63  69.86   8542802  AABA\n",
            "3016 2017-12-27  69.77  70.49  69.69  70.06   6345124  AABA\n",
            "3017 2017-12-28  70.12  70.32  69.51  69.82   7556877  AABA\n",
            "3018 2017-12-29  69.79  70.13  69.43  69.85   6613070  AABA\n",
            "Date      0\n",
            "Open      0\n",
            "High      0\n",
            "Low       0\n",
            "Close     0\n",
            "Volume    0\n",
            "Name      0\n",
            "dtype: int64\n"
          ]
        }
      ]
    },
    {
      "cell_type": "code",
      "metadata": {
        "colab": {
          "base_uri": "https://localhost:8080/",
          "height": 341
        },
        "id": "nG3YAkwJRFv1",
        "outputId": "d74cb1ed-dc40-4d7d-aba4-bea91a6eb619"
      },
      "source": [
        "#visualisasi data \n",
        "date = df['Date'].values\n",
        "price  = df['Close'].values\n",
        " \n",
        " \n",
        "plt.figure(figsize=(15,5))\n",
        "plt.plot(date, price)\n",
        "plt.title('Close Price',\n",
        "          fontsize=20);"
      ],
      "execution_count": null,
      "outputs": [
        {
          "output_type": "display_data",
          "data": {
            "image/png": "[encoded data removed]",
            "text/plain": [
              "<Figure size 1080x360 with 1 Axes>"
            ]
          },
          "metadata": {
            "needs_background": "light"
          }
        }
      ]
    },
    {
      "cell_type": "markdown",
      "metadata": {
        "id": "bvkJ0Cgs5-vF"
      },
      "source": [
        "split data 80 20"
      ]
    },
    {
      "cell_type": "code",
      "metadata": {
        "id": "_lIL_T7Mho-9"
      },
      "source": [
        "from sklearn.model_selection import train_test_split\n",
        "price_train, price_test, date_train, date_test = train_test_split(price, date, test_size=0.2, random_state=0, shuffle=False)"
      ],
      "execution_count": null,
      "outputs": []
    },
    {
      "cell_type": "code",
      "metadata": {
        "id": "oYrsydpaR5vl"
      },
      "source": [
        "def windowed_dataset(series, window_size, batch_size, shuffle_buffer):\n",
        "    series = tf.expand_dims(series, axis=-1)\n",
        "    ds = tf.data.Dataset.from_tensor_slices(series)\n",
        "    ds = ds.window(window_size + 1, shift=1, drop_remainder=True)\n",
        "    ds = ds.flat_map(lambda w: w.batch(window_size + 1))\n",
        "    ds = ds.shuffle(shuffle_buffer)\n",
        "    ds = ds.map(lambda w: (w[:-1], w[-1:]))\n",
        "    return ds.batch(batch_size).prefetch(1)"
      ],
      "execution_count": null,
      "outputs": []
    },
    {
      "cell_type": "markdown",
      "metadata": {
        "id": "qbRzQDZz7BzH"
      },
      "source": [
        "membuat arsitektur model"
      ]
    },
    {
      "cell_type": "code",
      "metadata": {
        "id": "73tV7ZofYOYm"
      },
      "source": [
        "train_set = windowed_dataset(price_train, window_size=60, batch_size=100, shuffle_buffer=1000)\n",
        "val_set = windowed_dataset(price_test, window_size=60, batch_size=100, shuffle_buffer=1000)\n",
        "model = tf.keras.models.Sequential([\n",
        "  tf.keras.layers.LSTM(60, return_sequences=True), #menggunakan lstm.\n",
        "  tf.keras.layers.Bidirectional(LSTM(60)), #menggunakan bidirectional lstm.\n",
        "  tf.keras.layers.Dense(30, activation=\"relu\"),\n",
        "  tf.keras.layers.Dense(10, activation=\"relu\"),\n",
        "  tf.keras.layers.Dense(1),\n",
        "])\n",
        "optimizer = tf.keras.optimizers.SGD(learning_rate=1.0000e-04, momentum=0.9) #menggunakan Learning rate.\n",
        "model.compile(loss=tf.keras.losses.Huber(),\n",
        "              optimizer=optimizer,\n",
        "              metrics=[\"mae\"])"
      ],
      "execution_count": null,
      "outputs": []
    },
    {
      "cell_type": "markdown",
      "metadata": {
        "id": "OVfmYimd7l_k"
      },
      "source": [
        "membuat callback"
      ]
    },
    {
      "cell_type": "code",
      "metadata": {
        "id": "NG0CjaigSB6y"
      },
      "source": [
        "#callback\n",
        "class myCallback(tf.keras.callbacks.Callback):\n",
        "  def on_epoch_end(self, epoch, logs={}):\n",
        "    if(logs.get('mae')<3 and logs.get('val_mae')<3):\n",
        "      print(\"\\n mae dan val_mae dibawah 3!\")\n",
        "      self.model.stop_training = True\n",
        "callbacks = myCallback()"
      ],
      "execution_count": null,
      "outputs": []
    },
    {
      "cell_type": "markdown",
      "metadata": {
        "id": "4WbDklUjLEoR"
      },
      "source": [
        "10% dari skala pada data"
      ]
    },
    {
      "cell_type": "code",
      "metadata": {
        "colab": {
          "base_uri": "https://localhost:8080/"
        },
        "id": "dDlX2ClQLDZD",
        "outputId": "5c133c74-11a2-49e0-e882-4ac16f0154ba"
      },
      "source": [
        "print('min price',price.min()) \n",
        "print('max price',price.max()) \n",
        "print('10% skala: ', (price.max()-price.min())*0.1) "
      ],
      "execution_count": null,
      "outputs": [
        {
          "output_type": "stream",
          "name": "stdout",
          "text": [
            "min price 8.95\n",
            "max price 72.93\n",
            "10% skala:  6.398000000000001\n"
          ]
        }
      ]
    },
    {
      "cell_type": "markdown",
      "metadata": {
        "id": "chzVvFB-_F7S"
      },
      "source": [
        "melatih model"
      ]
    },
    {
      "cell_type": "code",
      "metadata": {
        "colab": {
          "base_uri": "https://localhost:8080/"
        },
        "id": "u2PKCpuBSIXq",
        "outputId": "f266a3be-8f2c-4151-c00b-2d70d70d5ce6"
      },
      "source": [
        "history = model.fit(train_set, validation_data=val_set, epochs=100, callbacks=[callbacks])"
      ],
      "execution_count": null,
      "outputs": [
        {
          "output_type": "stream",
          "name": "stdout",
          "text": [
            "Epoch 1/100\n",
            "24/24 [==============================] - 11s 215ms/step - loss: 23.5868 - mae: 24.0868 - val_loss: 45.3661 - val_mae: 45.8661\n",
            "Epoch 2/100\n",
            "24/24 [==============================] - 4s 172ms/step - loss: 23.4130 - mae: 23.9130 - val_loss: 45.2373 - val_mae: 45.7373\n",
            "Epoch 3/100\n",
            "24/24 [==============================] - 4s 170ms/step - loss: 23.2722 - mae: 23.7722 - val_loss: 45.1168 - val_mae: 45.6168\n",
            "Epoch 4/100\n",
            "24/24 [==============================] - 4s 170ms/step - loss: 23.1370 - mae: 23.6370 - val_loss: 44.9619 - val_mae: 45.4619\n",
            "Epoch 5/100\n",
            "24/24 [==============================] - 4s 170ms/step - loss: 22.9762 - mae: 23.4762 - val_loss: 44.7757 - val_mae: 45.2757\n",
            "Epoch 6/100\n",
            "24/24 [==============================] - 4s 171ms/step - loss: 22.7839 - mae: 23.2839 - val_loss: 44.5506 - val_mae: 45.0506\n",
            "Epoch 7/100\n",
            "24/24 [==============================] - 4s 172ms/step - loss: 22.5479 - mae: 23.0479 - val_loss: 44.2793 - val_mae: 44.7793\n",
            "Epoch 8/100\n",
            "24/24 [==============================] - 4s 172ms/step - loss: 22.2486 - mae: 22.7486 - val_loss: 43.9243 - val_mae: 44.4243\n",
            "Epoch 9/100\n",
            "24/24 [==============================] - 4s 175ms/step - loss: 21.8556 - mae: 22.3556 - val_loss: 43.4521 - val_mae: 43.9521\n",
            "Epoch 10/100\n",
            "24/24 [==============================] - 4s 172ms/step - loss: 21.3228 - mae: 21.8228 - val_loss: 42.8043 - val_mae: 43.3043\n",
            "Epoch 11/100\n",
            "24/24 [==============================] - 4s 169ms/step - loss: 20.5757 - mae: 21.0757 - val_loss: 41.8824 - val_mae: 42.3824\n",
            "Epoch 12/100\n",
            "24/24 [==============================] - 4s 172ms/step - loss: 19.4885 - mae: 19.9885 - val_loss: 40.5201 - val_mae: 41.0201\n",
            "Epoch 13/100\n",
            "24/24 [==============================] - 4s 173ms/step - loss: 17.8307 - mae: 18.3307 - val_loss: 38.4103 - val_mae: 38.9103\n",
            "Epoch 14/100\n",
            "24/24 [==============================] - 4s 174ms/step - loss: 15.1385 - mae: 15.6385 - val_loss: 34.8138 - val_mae: 35.3138\n",
            "Epoch 15/100\n",
            "24/24 [==============================] - 4s 172ms/step - loss: 10.6086 - mae: 11.0964 - val_loss: 28.6756 - val_mae: 29.1756\n",
            "Epoch 16/100\n",
            "24/24 [==============================] - 4s 173ms/step - loss: 7.5577 - mae: 8.0437 - val_loss: 24.9994 - val_mae: 25.4994\n",
            "Epoch 17/100\n",
            "24/24 [==============================] - 4s 173ms/step - loss: 7.4070 - mae: 7.9015 - val_loss: 23.9432 - val_mae: 24.4432\n",
            "Epoch 18/100\n",
            "24/24 [==============================] - 4s 170ms/step - loss: 7.3074 - mae: 7.8034 - val_loss: 23.2851 - val_mae: 23.7851\n",
            "Epoch 19/100\n",
            "24/24 [==============================] - 4s 176ms/step - loss: 7.1501 - mae: 7.6458 - val_loss: 23.0916 - val_mae: 23.5916\n",
            "Epoch 20/100\n",
            "24/24 [==============================] - 4s 170ms/step - loss: 6.7239 - mae: 7.2162 - val_loss: 22.3218 - val_mae: 22.8218\n",
            "Epoch 21/100\n",
            "24/24 [==============================] - 4s 171ms/step - loss: 5.7931 - mae: 6.2827 - val_loss: 20.7245 - val_mae: 21.2245\n",
            "Epoch 22/100\n",
            "24/24 [==============================] - 4s 172ms/step - loss: 4.0684 - mae: 4.5244 - val_loss: 16.6634 - val_mae: 17.1618\n",
            "Epoch 23/100\n",
            "24/24 [==============================] - 4s 174ms/step - loss: 3.4631 - mae: 3.9201 - val_loss: 14.4634 - val_mae: 14.9595\n",
            "Epoch 24/100\n",
            "24/24 [==============================] - 4s 170ms/step - loss: 2.8280 - mae: 3.2709 - val_loss: 12.4257 - val_mae: 12.9113\n",
            "Epoch 25/100\n",
            "24/24 [==============================] - 4s 171ms/step - loss: 2.1911 - mae: 2.6260 - val_loss: 10.9502 - val_mae: 11.4380\n",
            "Epoch 26/100\n",
            "24/24 [==============================] - 4s 174ms/step - loss: 3.5016 - mae: 3.9676 - val_loss: 11.1808 - val_mae: 11.6674\n",
            "Epoch 27/100\n",
            "24/24 [==============================] - 4s 173ms/step - loss: 3.0083 - mae: 3.4743 - val_loss: 11.0706 - val_mae: 11.5658\n",
            "Epoch 28/100\n",
            "24/24 [==============================] - 4s 171ms/step - loss: 1.6032 - mae: 2.0295 - val_loss: 8.3849 - val_mae: 8.8567\n",
            "Epoch 29/100\n",
            "24/24 [==============================] - 4s 172ms/step - loss: 1.2343 - mae: 1.6529 - val_loss: 7.3265 - val_mae: 7.7943\n",
            "Epoch 30/100\n",
            "24/24 [==============================] - 4s 172ms/step - loss: 1.0800 - mae: 1.4952 - val_loss: 6.9809 - val_mae: 7.4576\n",
            "Epoch 31/100\n",
            "24/24 [==============================] - 4s 172ms/step - loss: 1.0477 - mae: 1.4581 - val_loss: 6.0919 - val_mae: 6.5498\n",
            "Epoch 32/100\n",
            "24/24 [==============================] - 4s 170ms/step - loss: 1.1452 - mae: 1.5631 - val_loss: 6.1954 - val_mae: 6.6545\n",
            "Epoch 33/100\n",
            "24/24 [==============================] - 4s 171ms/step - loss: 0.9997 - mae: 1.4115 - val_loss: 5.9292 - val_mae: 6.3874\n",
            "Epoch 34/100\n",
            "24/24 [==============================] - 4s 171ms/step - loss: 0.9251 - mae: 1.3240 - val_loss: 5.7601 - val_mae: 6.2157\n",
            "Epoch 35/100\n",
            "24/24 [==============================] - 4s 170ms/step - loss: 0.8907 - mae: 1.2901 - val_loss: 5.4764 - val_mae: 5.9335\n",
            "Epoch 36/100\n",
            "24/24 [==============================] - 4s 171ms/step - loss: 0.9907 - mae: 1.4028 - val_loss: 5.9330 - val_mae: 6.4073\n",
            "Epoch 37/100\n",
            "24/24 [==============================] - 4s 171ms/step - loss: 0.8539 - mae: 1.2497 - val_loss: 5.4033 - val_mae: 5.8541\n",
            "Epoch 38/100\n",
            "24/24 [==============================] - 4s 170ms/step - loss: 0.8228 - mae: 1.2174 - val_loss: 5.7411 - val_mae: 6.2127\n",
            "Epoch 39/100\n",
            "24/24 [==============================] - 4s 171ms/step - loss: 0.7736 - mae: 1.1545 - val_loss: 5.1868 - val_mae: 5.6388\n",
            "Epoch 40/100\n",
            "24/24 [==============================] - 4s 172ms/step - loss: 0.7639 - mae: 1.1545 - val_loss: 4.9751 - val_mae: 5.4297\n",
            "Epoch 41/100\n",
            "24/24 [==============================] - 4s 170ms/step - loss: 0.8093 - mae: 1.2068 - val_loss: 4.9279 - val_mae: 5.3926\n",
            "Epoch 42/100\n",
            "24/24 [==============================] - 4s 173ms/step - loss: 0.8296 - mae: 1.2274 - val_loss: 5.3294 - val_mae: 5.7934\n",
            "Epoch 43/100\n",
            "24/24 [==============================] - 4s 173ms/step - loss: 0.6594 - mae: 1.0368 - val_loss: 5.1153 - val_mae: 5.5752\n",
            "Epoch 44/100\n",
            "24/24 [==============================] - 4s 172ms/step - loss: 0.6333 - mae: 1.0036 - val_loss: 4.9273 - val_mae: 5.3764\n",
            "Epoch 45/100\n",
            "24/24 [==============================] - 4s 172ms/step - loss: 0.6401 - mae: 1.0089 - val_loss: 4.7744 - val_mae: 5.2274\n",
            "Epoch 46/100\n",
            "24/24 [==============================] - 4s 171ms/step - loss: 0.6177 - mae: 0.9897 - val_loss: 4.7211 - val_mae: 5.1712\n",
            "Epoch 47/100\n",
            "24/24 [==============================] - 4s 172ms/step - loss: 0.6433 - mae: 1.0197 - val_loss: 4.8566 - val_mae: 5.3001\n",
            "Epoch 48/100\n",
            "24/24 [==============================] - 4s 171ms/step - loss: 0.5853 - mae: 0.9505 - val_loss: 4.4892 - val_mae: 4.9304\n",
            "Epoch 49/100\n",
            "24/24 [==============================] - 4s 172ms/step - loss: 0.6159 - mae: 0.9967 - val_loss: 4.4950 - val_mae: 4.9396\n",
            "Epoch 50/100\n",
            "24/24 [==============================] - 4s 170ms/step - loss: 0.5602 - mae: 0.9185 - val_loss: 4.4772 - val_mae: 4.9183\n",
            "Epoch 51/100\n",
            "24/24 [==============================] - 4s 172ms/step - loss: 0.5443 - mae: 0.9072 - val_loss: 4.4802 - val_mae: 4.9169\n",
            "Epoch 52/100\n",
            "24/24 [==============================] - 4s 173ms/step - loss: 0.5475 - mae: 0.9072 - val_loss: 4.4659 - val_mae: 4.9121\n",
            "Epoch 53/100\n",
            "24/24 [==============================] - 4s 171ms/step - loss: 0.5996 - mae: 0.9695 - val_loss: 5.4515 - val_mae: 5.9362\n",
            "Epoch 54/100\n",
            "24/24 [==============================] - 4s 172ms/step - loss: 0.5660 - mae: 0.9320 - val_loss: 4.2909 - val_mae: 4.7252\n",
            "Epoch 55/100\n",
            "24/24 [==============================] - 4s 169ms/step - loss: 0.5028 - mae: 0.8556 - val_loss: 4.1654 - val_mae: 4.5942\n",
            "Epoch 56/100\n",
            "24/24 [==============================] - 4s 172ms/step - loss: 0.5175 - mae: 0.8740 - val_loss: 4.0653 - val_mae: 4.4928\n",
            "Epoch 57/100\n",
            "24/24 [==============================] - 4s 172ms/step - loss: 0.4986 - mae: 0.8567 - val_loss: 3.9447 - val_mae: 4.3700\n",
            "Epoch 58/100\n",
            "24/24 [==============================] - 4s 172ms/step - loss: 0.5414 - mae: 0.9035 - val_loss: 4.8096 - val_mae: 5.2839\n",
            "Epoch 59/100\n",
            "24/24 [==============================] - 4s 171ms/step - loss: 0.5007 - mae: 0.8557 - val_loss: 3.8656 - val_mae: 4.2929\n",
            "Epoch 60/100\n",
            "24/24 [==============================] - 4s 172ms/step - loss: 0.4683 - mae: 0.8181 - val_loss: 4.0333 - val_mae: 4.4713\n",
            "Epoch 61/100\n",
            "24/24 [==============================] - 4s 173ms/step - loss: 0.4779 - mae: 0.8283 - val_loss: 4.0641 - val_mae: 4.5114\n",
            "Epoch 62/100\n",
            "24/24 [==============================] - 4s 170ms/step - loss: 0.4422 - mae: 0.7852 - val_loss: 3.7001 - val_mae: 4.1205\n",
            "Epoch 63/100\n",
            "24/24 [==============================] - 4s 173ms/step - loss: 0.4638 - mae: 0.8160 - val_loss: 3.7758 - val_mae: 4.2096\n",
            "Epoch 64/100\n",
            "24/24 [==============================] - 4s 172ms/step - loss: 0.4199 - mae: 0.7574 - val_loss: 3.6520 - val_mae: 4.0698\n",
            "Epoch 65/100\n",
            "24/24 [==============================] - 4s 173ms/step - loss: 0.4158 - mae: 0.7522 - val_loss: 3.6735 - val_mae: 4.1044\n",
            "Epoch 66/100\n",
            "24/24 [==============================] - 4s 172ms/step - loss: 0.4139 - mae: 0.7555 - val_loss: 3.4009 - val_mae: 3.8256\n",
            "Epoch 67/100\n",
            "24/24 [==============================] - 4s 172ms/step - loss: 0.4579 - mae: 0.8125 - val_loss: 3.3866 - val_mae: 3.7997\n",
            "Epoch 68/100\n",
            "24/24 [==============================] - 4s 171ms/step - loss: 0.4098 - mae: 0.7499 - val_loss: 4.0371 - val_mae: 4.5045\n",
            "Epoch 69/100\n",
            "24/24 [==============================] - 4s 172ms/step - loss: 0.4930 - mae: 0.8522 - val_loss: 3.3260 - val_mae: 3.7719\n",
            "Epoch 70/100\n",
            "24/24 [==============================] - 4s 171ms/step - loss: 0.5295 - mae: 0.8985 - val_loss: 3.5181 - val_mae: 3.9527\n",
            "Epoch 71/100\n",
            "24/24 [==============================] - 4s 172ms/step - loss: 0.4055 - mae: 0.7459 - val_loss: 3.3039 - val_mae: 3.7151\n",
            "Epoch 72/100\n",
            "24/24 [==============================] - 4s 173ms/step - loss: 0.4411 - mae: 0.7868 - val_loss: 3.3874 - val_mae: 3.8095\n",
            "Epoch 73/100\n",
            "24/24 [==============================] - 4s 170ms/step - loss: 0.4017 - mae: 0.7387 - val_loss: 3.2037 - val_mae: 3.6096\n",
            "Epoch 74/100\n",
            "24/24 [==============================] - 4s 174ms/step - loss: 0.3828 - mae: 0.7135 - val_loss: 3.3057 - val_mae: 3.7407\n",
            "Epoch 75/100\n",
            "24/24 [==============================] - 4s 171ms/step - loss: 0.4162 - mae: 0.7645 - val_loss: 3.1159 - val_mae: 3.5218\n",
            "Epoch 76/100\n",
            "24/24 [==============================] - 4s 173ms/step - loss: 0.4013 - mae: 0.7403 - val_loss: 3.2930 - val_mae: 3.7267\n",
            "Epoch 77/100\n",
            "24/24 [==============================] - 4s 174ms/step - loss: 0.4056 - mae: 0.7455 - val_loss: 3.0468 - val_mae: 3.4523\n",
            "Epoch 78/100\n",
            "24/24 [==============================] - 4s 172ms/step - loss: 0.4307 - mae: 0.7788 - val_loss: 2.9609 - val_mae: 3.3546\n",
            "Epoch 79/100\n",
            "24/24 [==============================] - 4s 172ms/step - loss: 0.3844 - mae: 0.7195 - val_loss: 2.9334 - val_mae: 3.3436\n",
            "Epoch 80/100\n",
            "24/24 [==============================] - 4s 172ms/step - loss: 0.4064 - mae: 0.7451 - val_loss: 3.2797 - val_mae: 3.7170\n",
            "Epoch 81/100\n",
            "24/24 [==============================] - 4s 175ms/step - loss: 0.3617 - mae: 0.6887 - val_loss: 3.0856 - val_mae: 3.5069\n",
            "Epoch 82/100\n",
            "24/24 [==============================] - 4s 174ms/step - loss: 0.3682 - mae: 0.6999 - val_loss: 2.8718 - val_mae: 3.2647\n",
            "Epoch 83/100\n",
            "24/24 [==============================] - 4s 174ms/step - loss: 0.3620 - mae: 0.6893 - val_loss: 2.7585 - val_mae: 3.1678\n",
            "Epoch 84/100\n",
            "24/24 [==============================] - 4s 171ms/step - loss: 0.3621 - mae: 0.6916 - val_loss: 2.8486 - val_mae: 3.2436\n",
            "Epoch 85/100\n",
            "24/24 [==============================] - 4s 173ms/step - loss: 0.3766 - mae: 0.7160 - val_loss: 2.8803 - val_mae: 3.2907\n",
            "Epoch 86/100\n",
            "24/24 [==============================] - 4s 173ms/step - loss: 0.3589 - mae: 0.6864 - val_loss: 2.8289 - val_mae: 3.2358\n",
            "Epoch 87/100\n",
            "24/24 [==============================] - 4s 172ms/step - loss: 0.3873 - mae: 0.7302 - val_loss: 2.7736 - val_mae: 3.1753\n",
            "Epoch 88/100\n",
            "24/24 [==============================] - 4s 174ms/step - loss: 0.3366 - mae: 0.6574 - val_loss: 2.7280 - val_mae: 3.1231\n",
            "Epoch 89/100\n",
            "24/24 [==============================] - 4s 173ms/step - loss: 0.3327 - mae: 0.6529 - val_loss: 2.9099 - val_mae: 3.3348\n",
            "Epoch 90/100\n",
            "24/24 [==============================] - 4s 173ms/step - loss: 0.3794 - mae: 0.7117 - val_loss: 2.6513 - val_mae: 3.0803\n",
            "Epoch 91/100\n",
            "24/24 [==============================] - 4s 174ms/step - loss: 0.3674 - mae: 0.7052 - val_loss: 2.7437 - val_mae: 3.1518\n",
            "Epoch 92/100\n",
            "24/24 [==============================] - 4s 173ms/step - loss: 0.3297 - mae: 0.6531 - val_loss: 2.8315 - val_mae: 3.2518\n",
            "Epoch 93/100\n",
            "24/24 [==============================] - 4s 172ms/step - loss: 0.3323 - mae: 0.6536 - val_loss: 2.5910 - val_mae: 2.9747\n",
            "\n",
            " mae dan val_mae dibawah 3!\n"
          ]
        }
      ]
    },
    {
      "cell_type": "code",
      "metadata": {
        "colab": {
          "base_uri": "https://localhost:8080/",
          "height": 294
        },
        "id": "iOHkJOF8VlVd",
        "outputId": "17a4ac6a-ef9b-4c11-93d5-ed28be18b7a8"
      },
      "source": [
        "plt.plot(history.history['mae'])\n",
        "plt.title('MAE')\n",
        "plt.ylabel('mae')\n",
        "plt.xlabel('Epoch')\n",
        "plt.legend(['Train'], loc='upper right')\n",
        "plt.show()"
      ],
      "execution_count": null,
      "outputs": [
        {
          "output_type": "display_data",
          "data": {
            "image/png": "[encoded data removed]",
            "text/plain": [
              "<Figure size 432x288 with 1 Axes>"
            ]
          },
          "metadata": {
            "needs_background": "light"
          }
        }
      ]
    },
    {
      "cell_type": "code",
      "metadata": {
        "colab": {
          "base_uri": "https://localhost:8080/",
          "height": 294
        },
        "id": "ZEHfjTdkVlnM",
        "outputId": "32053a1f-7548-4b33-a5e2-8d7b822f1c7e"
      },
      "source": [
        "plt.plot(history.history['val_mae'])\n",
        "plt.title('MAE Validation')\n",
        "plt.ylabel('val_mae')\n",
        "plt.xlabel('Epoch')\n",
        "plt.legend(['Val'], loc='upper right')\n",
        "plt.show()"
      ],
      "execution_count": null,
      "outputs": [
        {
          "output_type": "display_data",
          "data": {
            "image/png": "[encoded data removed]",
            "text/plain": [
              "<Figure size 432x288 with 1 Axes>"
            ]
          },
          "metadata": {
            "needs_background": "light"
          }
        }
      ]
    }
  ]
}